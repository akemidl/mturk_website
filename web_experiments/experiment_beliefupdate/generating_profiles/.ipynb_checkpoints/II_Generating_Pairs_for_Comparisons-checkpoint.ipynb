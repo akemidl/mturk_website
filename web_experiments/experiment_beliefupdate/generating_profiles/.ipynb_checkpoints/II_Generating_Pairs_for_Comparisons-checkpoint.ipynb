{
 "cells": [
  {
   "cell_type": "markdown",
   "metadata": {},
   "source": [
    "Run after session 1 before session 2. Creates for each trial who each person will be comparing. "
   ]
  },
  {
   "cell_type": "code",
   "execution_count": 1,
   "metadata": {
    "collapsed": true
   },
   "outputs": [],
   "source": [
    "import os\n",
    "import numpy as np\n",
    "import glob\n"
   ]
  },
  {
   "cell_type": "code",
   "execution_count": 2,
   "metadata": {
    "collapsed": true
   },
   "outputs": [],
   "source": [
    "num_trials=15"
   ]
  },
  {
   "cell_type": "code",
   "execution_count": 3,
   "metadata": {},
   "outputs": [
    {
     "data": {
      "text/plain": [
       "['session1/10112342',\n",
       " 'session1/10263421',\n",
       " 'session1/10518512',\n",
       " 'session1/14683182',\n",
       " 'session1/20102341',\n",
       " 'session1/61512352',\n",
       " 'session1/71561345']"
      ]
     },
     "execution_count": 3,
     "metadata": {},
     "output_type": "execute_result"
    }
   ],
   "source": [
    "session1_folders = glob.glob('session1/*')\n",
    "session1_folders"
   ]
  },
  {
   "cell_type": "code",
   "execution_count": 4,
   "metadata": {
    "collapsed": true
   },
   "outputs": [],
   "source": [
    "session_1_MIDS = [s1.replace('session1/','') for s1 in session1_folders]"
   ]
  },
  {
   "cell_type": "code",
   "execution_count": 5,
   "metadata": {
    "collapsed": true
   },
   "outputs": [],
   "source": [
    "for MID in session_1_MIDS:\n",
    "    \n",
    "    # make session 2 folder\n",
    "    session2_folder = 'session2/'+MID\n",
    "    if not os.path.exists(session2_folder):\n",
    "        os.makedirs(session2_folder)\n",
    "        \n",
    "    # session 2 comparisons\n",
    "    with open(session2_folder+'/pairs_for_comparison.txt','w') as f:\n",
    "        for t in range(num_trials):\n",
    "            candidates = session_1_MIDS[:] # I can copy it above, if I want to not have duplicates. \n",
    "            candidates.remove(MID)# remove current person)\n",
    "            pair = ','.join(np.random.choice(candidates,2,replace=False))+'\\n'\n",
    "            f.writelines(pair)"
   ]
  },
  {
   "cell_type": "code",
   "execution_count": null,
   "metadata": {
    "collapsed": true
   },
   "outputs": [],
   "source": []
  }
 ],
 "metadata": {
  "kernelspec": {
   "display_name": "Python 2",
   "language": "python",
   "name": "python2"
  },
  "language_info": {
   "codemirror_mode": {
    "name": "ipython",
    "version": 2
   },
   "file_extension": ".py",
   "mimetype": "text/x-python",
   "name": "python",
   "nbconvert_exporter": "python",
   "pygments_lexer": "ipython2",
   "version": "2.7.13"
  }
 },
 "nbformat": 4,
 "nbformat_minor": 2
}
