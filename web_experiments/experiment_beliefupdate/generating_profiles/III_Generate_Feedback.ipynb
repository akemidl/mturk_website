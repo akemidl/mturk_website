{
 "cells": [
  {
   "cell_type": "code",
   "execution_count": 1,
   "metadata": {
    "collapsed": true
   },
   "outputs": [],
   "source": [
    "import os\n",
    "import numpy as np\n",
    "import glob"
   ]
  },
  {
   "cell_type": "code",
   "execution_count": 2,
   "metadata": {
    "collapsed": true
   },
   "outputs": [],
   "source": [
    "num_trials=5"
   ]
  },
  {
   "cell_type": "markdown",
   "metadata": {},
   "source": [
    "## To Change\n",
    "- later I'll download any trials from the database where the pairs contains the MID.. to get his real feedback.\n",
    "\n",
    "`SELECT * FROM web_experiments_beliefupdate_trial  WHERE (pair LIKE '%101%')`\n"
   ]
  },
  {
   "cell_type": "code",
   "execution_count": 3,
   "metadata": {},
   "outputs": [
    {
     "data": {
      "text/plain": [
       "['session1/10112342',\n",
       " 'session1/10263421',\n",
       " 'session1/10518512',\n",
       " 'session1/14683182',\n",
       " 'session1/20102341',\n",
       " 'session1/61512352',\n",
       " 'session1/71561345']"
      ]
     },
     "execution_count": 3,
     "metadata": {},
     "output_type": "execute_result"
    }
   ],
   "source": [
    "session1_folders = glob.glob('session1/*')\n",
    "session1_folders"
   ]
  },
  {
   "cell_type": "code",
   "execution_count": 4,
   "metadata": {
    "collapsed": true
   },
   "outputs": [],
   "source": [
    "session_1_MIDS = [s1.replace('session1/','') for s1 in session1_folders]"
   ]
  },
  {
   "cell_type": "code",
   "execution_count": 5,
   "metadata": {
    "collapsed": true
   },
   "outputs": [],
   "source": [
    "for MID in session_1_MIDS:\n",
    "    \n",
    "    # make session 2 folder\n",
    "    session3_folder = 'session3/'+MID\n",
    "    if not os.path.exists(session3_folder):\n",
    "        os.makedirs(session3_folder)\n",
    "        \n",
    "    # session 2 comparisons\n",
    "    with open(session3_folder+'/pairs_for_feedback.txt','w') as f:\n",
    "        for t in range(num_trials):\n",
    "            candidates = session_1_MIDS[:] # I can copy it above, if I want to not have duplicates. \n",
    "            candidates.remove(MID)# remove current person)\n",
    "            pair = str(MID)+','+str(np.random.choice(candidates,1,replace=False)[0])+','+str(np.random.randint(2))+'\\n'\n",
    "            f.writelines(pair)"
   ]
  },
  {
   "cell_type": "code",
   "execution_count": 6,
   "metadata": {},
   "outputs": [
    {
     "data": {
      "text/plain": [
       "0"
      ]
     },
     "execution_count": 6,
     "metadata": {},
     "output_type": "execute_result"
    }
   ],
   "source": [
    "np.random.randint(2)"
   ]
  }
 ],
 "metadata": {
  "kernelspec": {
   "display_name": "Python 2",
   "language": "python",
   "name": "python2"
  },
  "language_info": {
   "codemirror_mode": {
    "name": "ipython",
    "version": 2
   },
   "file_extension": ".py",
   "mimetype": "text/x-python",
   "name": "python",
   "nbconvert_exporter": "python",
   "pygments_lexer": "ipython2",
   "version": "2.7.13"
  }
 },
 "nbformat": 4,
 "nbformat_minor": 2
}
