{
 "cells": [
  {
   "cell_type": "markdown",
   "metadata": {},
   "source": [
    "## What I do\n",
    "- make a function that downloads data for all id's from a certain date range\n",
    "- makes a folder for each subject MID\n",
    "- creates a plot\n",
    "- stores self_description.txt\n",
    "- stores SATs_Grades.txt \n",
    "\n",
    "** things to add **\n",
    "- errors if person doesn't have data"
   ]
  },
  {
   "cell_type": "code",
   "execution_count": 71,
   "metadata": {
    "collapsed": true
   },
   "outputs": [],
   "source": [
    "# import \n",
    "\n",
    "date = '2017-09-06'\n",
    "#date = '2017-09-10'\n",
    "date='2017-09-25'"
   ]
  },
  {
   "cell_type": "code",
   "execution_count": 72,
   "metadata": {
    "collapsed": true
   },
   "outputs": [],
   "source": [
    "import MySQLdb\n",
    "import json\n",
    "import os\n",
    "import numpy as np\n",
    "import matplotlib.pyplot as plt\n",
    "import seaborn as sns\n",
    "import shutil\n",
    "\n",
    "%matplotlib inline\n"
   ]
  },
  {
   "cell_type": "code",
   "execution_count": 73,
   "metadata": {
    "collapsed": true
   },
   "outputs": [],
   "source": [
    "db=MySQLdb.connect(host=\"christest.c5s5wgavsyu2.us-west-2.rds.amazonaws.com\",user=\"christest\",\n",
    "                  passwd=\"gags1313\",db=\"chrisdb\")"
   ]
  },
  {
   "cell_type": "code",
   "execution_count": 74,
   "metadata": {},
   "outputs": [
    {
     "name": "stdout",
     "output_type": "stream",
     "text": [
      "['id', 'MID', 'start_date', 'start_time', 'completion_code', 'completed', 'progress', 'total_tasks', 'tasks', 'cb', 'session_id', 'AID', 'HID', 'progress_times', 'cb2', 'progress_times2', 'show_info_sheet', 'agreed_to_be_contacted', 'which_completion_message']\n"
     ]
    }
   ],
   "source": [
    "# get the header \n",
    "db.query(\"\"\"SELECT column_name FROM information_schema.columns WHERE table_name = 'web_experiments_participant'\"\"\")\n",
    "r=db.store_result() # sends the whole results\n",
    "header = r.fetch_row(0)\n",
    "header = [hh[0] for hh in header]\n",
    "print(header)"
   ]
  },
  {
   "cell_type": "code",
   "execution_count": 75,
   "metadata": {},
   "outputs": [
    {
     "data": {
      "text/plain": [
       "['102', '101', '14', '6']"
      ]
     },
     "execution_count": 75,
     "metadata": {},
     "output_type": "execute_result"
    }
   ],
   "source": [
    "# get MIDs for that day\n",
    "db.query(\"\"\"SELECT * FROM web_experiments_participant WHERE (start_date LIKE '\"\"\"+'%'+str(date)+'%'+\"\"\"')\"\"\")\n",
    "r=db.store_result() # sends the whole results\n",
    "rows = r.fetch_row(2000) # there shouldn't be more than 2000\n",
    "\n",
    "MIDs = []\n",
    "for row in rows:\n",
    "    MIDs.append(row[1])\n",
    "MIDs = list(set(MIDs))\n",
    "MIDs\n"
   ]
  },
  {
   "cell_type": "code",
   "execution_count": 76,
   "metadata": {},
   "outputs": [
    {
     "name": "stdout",
     "output_type": "stream",
     "text": [
      "remaining MIDs for date:\n",
      "['102', '101', '14', '6']\n"
     ]
    }
   ],
   "source": [
    "MIDs_copy = MIDs[:]\n",
    "for MID in MIDs:\n",
    "\n",
    "    failed_mid =False\n",
    "    \n",
    "    # create folder for subject\n",
    "    directory = 'session1/'+str(MID)+'/'\n",
    "    if not os.path.exists(directory):\n",
    "        os.makedirs(directory)\n",
    "        \n",
    "    for resp in ['work_style_questions','self_describe_page','sat_grades_entry']:\n",
    "        # get session 1 data for each trial \n",
    "        db.query(\"\"\"SELECT responses,tags FROM web_experiments_beliefupdate_trial WHERE (save_time LIKE '\"\"\"+'%'+str(date)+'%'+\"\"\"') AND (MID='\"\"\"+str(MID)+\"\"\"') AND (session ='\"\"\"+str(1)+\"\"\"') AND (trial_name='\"\"\"+resp+\"\"\"')\"\"\")\n",
    "        r=db.store_result() # sends the whole results\n",
    "        rows = r.fetch_row(100)\n",
    "\n",
    "        if len(rows)==1:\n",
    "            response_dict = eval(rows[0][0])\n",
    "                \n",
    "            # save to json\n",
    "            with open(directory+resp+'.json', 'w') as fp:\n",
    "                json.dump(response_dict, fp)\n",
    "            \n",
    "            # save tags too (what to call the bars in the plot)\n",
    "            if resp =='work_style_questions':\n",
    "                tags = rows[0][1]\n",
    "                with open(directory+resp+'tags.txt', 'w') as fp:\n",
    "                    fp.write(tags)\n",
    "\n",
    "        else:\n",
    "            # missing something, or has too many rows so fail this subject \n",
    "            failed_mid = True\n",
    "\n",
    "            \n",
    "    if failed_mid:\n",
    "        print('Failed on MID:'+MID)\n",
    "        MIDs_copy.remove(MID) # remove subject from list for making plots \n",
    "        shutil.rmtree(directory) # remove folder \n",
    "            \n",
    "MIDs = MIDs_copy\n",
    "print('remaining MIDs for date:')\n",
    "print(MIDs)\n",
    "            \n",
    "            "
   ]
  },
  {
   "cell_type": "code",
   "execution_count": 77,
   "metadata": {},
   "outputs": [
    {
     "data": {
      "text/plain": [
       "\"[u'independent worker; group worker', u'advice seeker; problem solver', u'detailed thinker; big picture thinker', u'intuitive thinker; analytic thinker', u'logical presenter; entertaining presenter', u'strategic; adaptive']\""
      ]
     },
     "execution_count": 77,
     "metadata": {},
     "output_type": "execute_result"
    }
   ],
   "source": [
    "tags"
   ]
  },
  {
   "cell_type": "code",
   "execution_count": 78,
   "metadata": {
    "collapsed": true
   },
   "outputs": [],
   "source": [
    "db.close()"
   ]
  },
  {
   "cell_type": "code",
   "execution_count": 79,
   "metadata": {},
   "outputs": [
    {
     "name": "stdout",
     "output_type": "stream",
     "text": [
      "[ 0.7         1.86666667  2.2       ]\n",
      "['0', '1', '2']\n",
      "[-0.8  1.2  1.2]\n",
      "['0', '1', '2']\n",
      "[ 1.7         1.86666667 -0.8       ]\n",
      "['0', '1', '2']\n",
      "[ 0.2        -0.13333333 -0.8       ]\n",
      "['0', '1', '2']\n"
     ]
    }
   ],
   "source": [
    "for MID in MIDs:\n",
    "    \n",
    "    directory = 'session1/'+str(MID)+'/'\n",
    "    \n",
    "    # load data\n",
    "    with open(directory+'work_style_questions.json', 'r') as f:\n",
    "        ws_dict = json.load(f)\n",
    "    \n",
    "    # labels (tags)\n",
    "    with open(directory+'work_style_questionstags.txt', 'r') as fp:\n",
    "        tags = fp.read()\n",
    "    tags = eval(tags) # convert to list \n",
    "    tags = [str(tag).split(';') for tag in tags] # convert from unicode and split\n",
    "    \n",
    "    # x data (bars)\n",
    "    x = [round(int(ws_dict['Q'+str(q)])-1.5) for q in range(len(tags))]\n",
    "\n",
    "    # change to 3 bars \n",
    "    x_new = np.zeros((3))\n",
    "    x_new[0] = (x[0]+x[1])/2.0 + 0.2\n",
    "    x_new[1] = (x[2]+(4-x[3])+x[4])/3.0 + 0.2\n",
    "    x_new[2] = x[5] + 0.2\n",
    "\n",
    "    x = x_new\n",
    "    print(x)\n",
    "\n",
    "    tags_new = [['independent worker','group worker'],\n",
    "                ['analytic thinker','intuitive thinker'],\n",
    "                ['strategic planner','adaptive planner']]\n",
    "    tags = tags_new\n",
    "        \n",
    "    for ti in range(len(tags)):\n",
    "        if x[ti]<0:\n",
    "\n",
    "            #tags[ti][0]='more \\n'+tags[ti][0]\n",
    "            #tags[ti][1]='more \\n'+tags[ti][1]\n",
    "            tags[ti][0]=''+tags[ti][0]\n",
    "            tags[ti][1]=''+tags[ti][1]\n",
    "        else:\n",
    "            #tags[ti][1]='more \\n'+tags[ti][1]\n",
    "            #tags[ti][0]='more \\n'+tags[ti][0]\n",
    "            tags[ti][1]=''+tags[ti][1]\n",
    "            tags[ti][0]=''+tags[ti][0]\n",
    "\n",
    "    # place holders for y data \n",
    "    y = [str(q) for q in range(len(tags))]\n",
    "    print(y)\n",
    "\n",
    "    colors = ['blue' for _y in y]\n",
    "    \n",
    "    # plot \n",
    "    plt.figure()\n",
    "    sns.axes_style('white')\n",
    "    sns.set_style('white')\n",
    "\n",
    "    ax = sns.barplot(x, y,palette=colors,orient='h',alpha=0.5)\n",
    "    fig = plt.gcf()\n",
    "    fig.set_size_inches(4,2)\n",
    "\n",
    "    for n, (_, _x) in enumerate(zip(y,x)):\n",
    "        if _x>0:\n",
    "            weighting1='normal'\n",
    "            weighting2='bold'\n",
    "        else:\n",
    "            weighting1='bold'\n",
    "            weighting2='normal'\n",
    "            \n",
    "        ax.annotate(\n",
    "            s='{:}'.format(tags[n][0]),\n",
    "            xy=(-2.5,n),\n",
    "            ha='right',va='center',\n",
    "            xytext=(0,0),\n",
    "            textcoords='offset points',\n",
    "            weight=weighting1\n",
    "        )\n",
    "        \n",
    "        ax.annotate(\n",
    "            s='{:}'.format(tags[n][1]), # +'\\n (+'+str(abs(_x))+')')\n",
    "            xy=(2.5,n),\n",
    "            ha='left',va='center',\n",
    "            xytext=(0,0),\n",
    "            textcoords='offset points',\n",
    "            weight=weighting2\n",
    "        )\n",
    "\n",
    "        ax.annotate(\n",
    "            s='',\n",
    "            xy=(0,n),\n",
    "            ha='center',va='center',\n",
    "            xytext=(10,0),\n",
    "            textcoords='offset points',\n",
    "        )  \n",
    "    # axes formatting\n",
    "    #ax.axvline(-2.4,c='k',linewidth=0.5)\n",
    "    #ax.axvline(2.4,c='k',linewidth=0.5)\n",
    "    ax.axvline(0,c='k',linestyle='--',linewidth=0.5)\n",
    "    ax.set_xlim([-6,6])\n",
    "    ax.set_yticks([])\n",
    "    ax.set_xticks([])\n",
    "    sns.despine(ax=ax, bottom=True, left=True)\n",
    "    ax.set_title('Working Style')\n",
    "    plt.tight_layout()\n",
    "    plt.savefig(directory+'working_style_profile.png',dpi=100,bbox_inches='tight')\n",
    "    plt.clf()\n",
    "    plt.close()"
   ]
  }
 ],
 "metadata": {
  "kernelspec": {
   "display_name": "Python 2",
   "language": "python",
   "name": "python2"
  },
  "language_info": {
   "codemirror_mode": {
    "name": "ipython",
    "version": 2
   },
   "file_extension": ".py",
   "mimetype": "text/x-python",
   "name": "python",
   "nbconvert_exporter": "python",
   "pygments_lexer": "ipython2",
   "version": "2.7.13"
  }
 },
 "nbformat": 4,
 "nbformat_minor": 2
}
